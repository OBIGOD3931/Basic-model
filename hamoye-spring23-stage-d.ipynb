{
 "cells": [
  {
   "cell_type": "code",
   "execution_count": 1,
   "metadata": {
    "execution": {
     "iopub.execute_input": "2023-07-18T21:47:17.437588Z",
     "iopub.status.busy": "2023-07-18T21:47:17.436804Z",
     "iopub.status.idle": "2023-07-18T21:47:22.245052Z",
     "shell.execute_reply": "2023-07-18T21:47:22.244413Z",
     "shell.execute_reply.started": "2023-07-18T20:01:53.461431Z"
    },
    "papermill": {
     "duration": 4.841747,
     "end_time": "2023-07-18T21:47:22.245180",
     "exception": false,
     "start_time": "2023-07-18T21:47:17.403433",
     "status": "completed"
    },
    "tags": []
   },
   "outputs": [],
   "source": [
    "# Import libraries\n",
    "import os\n",
    "import numpy as np\n",
    "import pandas as pd\n",
    "import keras.layers as layers\n",
    "from keras import backend\n",
    "from tensorflow import keras\n",
    "from keras.preprocessing.image import load_img\n",
    "import keras.models as models\n",
    "from keras.preprocessing.image import img_to_array\n",
    "\n"
   ]
  },
  {
   "cell_type": "code",
   "execution_count": 2,
   "metadata": {
    "_cell_guid": "79c7e3d0-c299-4dcb-8224-4455121ee9b0",
    "_uuid": "d629ff2d2480ee46fbb7e2d37f6b5fab8052498a",
    "execution": {
     "iopub.execute_input": "2023-07-18T21:47:22.305957Z",
     "iopub.status.busy": "2023-07-18T21:47:22.305327Z",
     "iopub.status.idle": "2023-07-18T21:47:22.360108Z",
     "shell.execute_reply": "2023-07-18T21:47:22.359075Z",
     "shell.execute_reply.started": "2023-07-18T20:02:33.247792Z"
    },
    "papermill": {
     "duration": 0.089275,
     "end_time": "2023-07-18T21:47:22.360236",
     "exception": false,
     "start_time": "2023-07-18T21:47:22.270961",
     "status": "completed"
    },
    "tags": []
   },
   "outputs": [],
   "source": [
    "# Load the training dataset\n",
    "train_df=pd.read_csv('/kaggle/input/planet-understanding-the-amazon-from-space/train_v2.csv/train_v2.csv')"
   ]
  },
  {
   "cell_type": "code",
   "execution_count": 3,
   "metadata": {
    "execution": {
     "iopub.execute_input": "2023-07-18T21:47:22.425566Z",
     "iopub.status.busy": "2023-07-18T21:47:22.424861Z",
     "iopub.status.idle": "2023-07-18T21:47:22.433950Z",
     "shell.execute_reply": "2023-07-18T21:47:22.434431Z",
     "shell.execute_reply.started": "2023-07-18T20:05:02.220985Z"
    },
    "papermill": {
     "duration": 0.04831,
     "end_time": "2023-07-18T21:47:22.434553",
     "exception": false,
     "start_time": "2023-07-18T21:47:22.386243",
     "status": "completed"
    },
    "tags": []
   },
   "outputs": [
    {
     "data": {
      "text/html": [
       "<div>\n",
       "<style scoped>\n",
       "    .dataframe tbody tr th:only-of-type {\n",
       "        vertical-align: middle;\n",
       "    }\n",
       "\n",
       "    .dataframe tbody tr th {\n",
       "        vertical-align: top;\n",
       "    }\n",
       "\n",
       "    .dataframe thead th {\n",
       "        text-align: right;\n",
       "    }\n",
       "</style>\n",
       "<table border=\"1\" class=\"dataframe\">\n",
       "  <thead>\n",
       "    <tr style=\"text-align: right;\">\n",
       "      <th></th>\n",
       "      <th>image_name</th>\n",
       "      <th>tags</th>\n",
       "    </tr>\n",
       "  </thead>\n",
       "  <tbody>\n",
       "    <tr>\n",
       "      <th>0</th>\n",
       "      <td>train_0</td>\n",
       "      <td>haze primary</td>\n",
       "    </tr>\n",
       "    <tr>\n",
       "      <th>1</th>\n",
       "      <td>train_1</td>\n",
       "      <td>agriculture clear primary water</td>\n",
       "    </tr>\n",
       "    <tr>\n",
       "      <th>2</th>\n",
       "      <td>train_2</td>\n",
       "      <td>clear primary</td>\n",
       "    </tr>\n",
       "    <tr>\n",
       "      <th>3</th>\n",
       "      <td>train_3</td>\n",
       "      <td>clear primary</td>\n",
       "    </tr>\n",
       "    <tr>\n",
       "      <th>4</th>\n",
       "      <td>train_4</td>\n",
       "      <td>agriculture clear habitation primary road</td>\n",
       "    </tr>\n",
       "    <tr>\n",
       "      <th>5</th>\n",
       "      <td>train_5</td>\n",
       "      <td>haze primary water</td>\n",
       "    </tr>\n",
       "    <tr>\n",
       "      <th>6</th>\n",
       "      <td>train_6</td>\n",
       "      <td>agriculture clear cultivation primary water</td>\n",
       "    </tr>\n",
       "    <tr>\n",
       "      <th>7</th>\n",
       "      <td>train_7</td>\n",
       "      <td>haze primary</td>\n",
       "    </tr>\n",
       "    <tr>\n",
       "      <th>8</th>\n",
       "      <td>train_8</td>\n",
       "      <td>agriculture clear cultivation primary</td>\n",
       "    </tr>\n",
       "    <tr>\n",
       "      <th>9</th>\n",
       "      <td>train_9</td>\n",
       "      <td>agriculture clear cultivation primary road</td>\n",
       "    </tr>\n",
       "  </tbody>\n",
       "</table>\n",
       "</div>"
      ],
      "text/plain": [
       "  image_name                                         tags\n",
       "0    train_0                                 haze primary\n",
       "1    train_1              agriculture clear primary water\n",
       "2    train_2                                clear primary\n",
       "3    train_3                                clear primary\n",
       "4    train_4    agriculture clear habitation primary road\n",
       "5    train_5                           haze primary water\n",
       "6    train_6  agriculture clear cultivation primary water\n",
       "7    train_7                                 haze primary\n",
       "8    train_8        agriculture clear cultivation primary\n",
       "9    train_9   agriculture clear cultivation primary road"
      ]
     },
     "execution_count": 3,
     "metadata": {},
     "output_type": "execute_result"
    }
   ],
   "source": [
    "train_df.head(10)"
   ]
  },
  {
   "cell_type": "code",
   "execution_count": 4,
   "metadata": {
    "execution": {
     "iopub.execute_input": "2023-07-18T21:47:22.493827Z",
     "iopub.status.busy": "2023-07-18T21:47:22.493191Z",
     "iopub.status.idle": "2023-07-18T21:47:22.528315Z",
     "shell.execute_reply": "2023-07-18T21:47:22.527468Z",
     "shell.execute_reply.started": "2023-07-18T20:05:26.853479Z"
    },
    "papermill": {
     "duration": 0.067698,
     "end_time": "2023-07-18T21:47:22.528538",
     "exception": false,
     "start_time": "2023-07-18T21:47:22.460840",
     "status": "completed"
    },
    "tags": []
   },
   "outputs": [],
   "source": [
    "# Load the test dataset\n",
    "test_df=pd.read_csv('/kaggle/input/planet-understanding-the-amazon-from-space/test_v2_file_mapping.csv/test_v2_file_mapping.csv')"
   ]
  },
  {
   "cell_type": "code",
   "execution_count": 5,
   "metadata": {
    "execution": {
     "iopub.execute_input": "2023-07-18T21:47:22.589822Z",
     "iopub.status.busy": "2023-07-18T21:47:22.587900Z",
     "iopub.status.idle": "2023-07-18T21:47:22.590484Z",
     "shell.execute_reply": "2023-07-18T21:47:22.590989Z",
     "shell.execute_reply.started": "2023-07-18T20:06:13.003379Z"
    },
    "papermill": {
     "duration": 0.036553,
     "end_time": "2023-07-18T21:47:22.591114",
     "exception": false,
     "start_time": "2023-07-18T21:47:22.554561",
     "status": "completed"
    },
    "tags": []
   },
   "outputs": [],
   "source": [
    "def tag_mapping(data):\n",
    "    labels=set()\n",
    "    for i in range(len(data)):\n",
    "        tags=data['tags'][i].split(' ')\n",
    "        labels.update(tags)\n",
    "    labels=list(labels)\n",
    "    labels.sort()\n",
    "    labels_dict={labels[i]:i for i in range(len(labels))}\n",
    "    inv_labels={i:labels[i] for i in range(len(labels))}\n",
    "    return labels_dict,inv_labels"
   ]
  },
  {
   "cell_type": "code",
   "execution_count": 6,
   "metadata": {
    "execution": {
     "iopub.execute_input": "2023-07-18T21:47:22.671769Z",
     "iopub.status.busy": "2023-07-18T21:47:22.662519Z",
     "iopub.status.idle": "2023-07-18T21:47:23.060484Z",
     "shell.execute_reply": "2023-07-18T21:47:23.059929Z",
     "shell.execute_reply.started": "2023-07-18T20:06:26.162484Z"
    },
    "papermill": {
     "duration": 0.443616,
     "end_time": "2023-07-18T21:47:23.060595",
     "exception": false,
     "start_time": "2023-07-18T21:47:22.616979",
     "status": "completed"
    },
    "tags": []
   },
   "outputs": [],
   "source": [
    "label_map,invmap=tag_mapping(train_df)"
   ]
  },
  {
   "cell_type": "code",
   "execution_count": 7,
   "metadata": {
    "execution": {
     "iopub.execute_input": "2023-07-18T21:47:23.119315Z",
     "iopub.status.busy": "2023-07-18T21:47:23.118478Z",
     "iopub.status.idle": "2023-07-18T21:47:23.121485Z",
     "shell.execute_reply": "2023-07-18T21:47:23.121002Z",
     "shell.execute_reply.started": "2023-07-18T20:06:30.874545Z"
    },
    "papermill": {
     "duration": 0.034177,
     "end_time": "2023-07-18T21:47:23.121589",
     "exception": false,
     "start_time": "2023-07-18T21:47:23.087412",
     "status": "completed"
    },
    "tags": []
   },
   "outputs": [],
   "source": [
    "def file_mapping(data):\n",
    "    mapping={}\n",
    "    for i in range(len(data)):\n",
    "        name,tags=train_df['image_name'][i],train_df['tags'][i]\n",
    "        mapping[name]=tags.split(' ')\n",
    "    return mapping"
   ]
  },
  {
   "cell_type": "code",
   "execution_count": 8,
   "metadata": {
    "execution": {
     "iopub.execute_input": "2023-07-18T21:47:23.178002Z",
     "iopub.status.busy": "2023-07-18T21:47:23.177278Z",
     "iopub.status.idle": "2023-07-18T21:47:23.181305Z",
     "shell.execute_reply": "2023-07-18T21:47:23.180815Z",
     "shell.execute_reply.started": "2023-07-18T20:06:37.283775Z"
    },
    "papermill": {
     "duration": 0.034244,
     "end_time": "2023-07-18T21:47:23.181405",
     "exception": false,
     "start_time": "2023-07-18T21:47:23.147161",
     "status": "completed"
    },
    "tags": []
   },
   "outputs": [],
   "source": [
    "def one_hot_encode(tags, mapping):\n",
    "    encoding = np.zeros(len(mapping), dtype='uint8')\n",
    "    for tag in tags:\n",
    "        encoding[mapping[tag]] = 1\n",
    "    return encoding"
   ]
  },
  {
   "cell_type": "code",
   "execution_count": 9,
   "metadata": {
    "execution": {
     "iopub.execute_input": "2023-07-18T21:47:23.241545Z",
     "iopub.status.busy": "2023-07-18T21:47:23.240740Z",
     "iopub.status.idle": "2023-07-18T21:47:23.243394Z",
     "shell.execute_reply": "2023-07-18T21:47:23.243865Z",
     "shell.execute_reply.started": "2023-07-18T20:06:41.114898Z"
    },
    "papermill": {
     "duration": 0.036405,
     "end_time": "2023-07-18T21:47:23.243987",
     "exception": false,
     "start_time": "2023-07-18T21:47:23.207582",
     "status": "completed"
    },
    "tags": []
   },
   "outputs": [],
   "source": [
    "def load_dataset(path,file_mapping,tag_mapping):\n",
    "    photos,targets=list(),list()\n",
    "    for filename in os.listdir(path):\n",
    "        photo=load_img(path+filename,target_size=(75,75))\n",
    "        photo=img_to_array(photo,dtype='uint8')\n",
    "        tags=file_mapping[filename[:-4]]\n",
    "        target=one_hot_encode(tags,tag_mapping)\n",
    "        photos.append(photo)\n",
    "        targets.append(target)\n",
    "    X=np.asarray(photos,dtype='uint8')\n",
    "    y=np.asarray(targets,dtype='uint8')\n",
    "    return X,y"
   ]
  },
  {
   "cell_type": "code",
   "execution_count": 10,
   "metadata": {
    "execution": {
     "iopub.execute_input": "2023-07-18T21:47:23.324157Z",
     "iopub.status.busy": "2023-07-18T21:47:23.313907Z",
     "iopub.status.idle": "2023-07-18T21:52:33.378129Z",
     "shell.execute_reply": "2023-07-18T21:52:33.377511Z",
     "shell.execute_reply.started": "2023-07-18T20:06:47.691942Z"
    },
    "papermill": {
     "duration": 310.108585,
     "end_time": "2023-07-18T21:52:33.378273",
     "exception": false,
     "start_time": "2023-07-18T21:47:23.269688",
     "status": "completed"
    },
    "tags": []
   },
   "outputs": [],
   "source": [
    "tags_mapping,_=tag_mapping(train_df)\n",
    "files_mapping=file_mapping(train_df)\n",
    "path='/kaggle/input/planets-dataset/planet/planet/train-jpg/'\n",
    "X,y=load_dataset(path,files_mapping,tags_mapping)"
   ]
  },
  {
   "cell_type": "code",
   "execution_count": 11,
   "metadata": {
    "execution": {
     "iopub.execute_input": "2023-07-18T21:52:33.435679Z",
     "iopub.status.busy": "2023-07-18T21:52:33.434966Z",
     "iopub.status.idle": "2023-07-18T21:52:33.980587Z",
     "shell.execute_reply": "2023-07-18T21:52:33.979484Z",
     "shell.execute_reply.started": "2023-07-18T20:10:23.447063Z"
    },
    "papermill": {
     "duration": 0.576123,
     "end_time": "2023-07-18T21:52:33.980734",
     "exception": false,
     "start_time": "2023-07-18T21:52:33.404611",
     "status": "completed"
    },
    "tags": []
   },
   "outputs": [],
   "source": [
    "from sklearn.model_selection import train_test_split\n",
    "from sklearn.metrics import fbeta_score\n",
    "from tensorflow.keras.preprocessing.image import ImageDataGenerator\n",
    "from keras.optimizers import SGD\n",
    "from keras.optimizers import RMSprop"
   ]
  },
  {
   "cell_type": "code",
   "execution_count": 12,
   "metadata": {
    "execution": {
     "iopub.execute_input": "2023-07-18T21:52:34.041139Z",
     "iopub.status.busy": "2023-07-18T21:52:34.039641Z",
     "iopub.status.idle": "2023-07-18T21:52:34.207876Z",
     "shell.execute_reply": "2023-07-18T21:52:34.207155Z",
     "shell.execute_reply.started": "2023-07-18T20:10:34.245756Z"
    },
    "papermill": {
     "duration": 0.201191,
     "end_time": "2023-07-18T21:52:34.208006",
     "exception": false,
     "start_time": "2023-07-18T21:52:34.006815",
     "status": "completed"
    },
    "tags": []
   },
   "outputs": [],
   "source": [
    "X_train, X_test, y_train, y_test = train_test_split(X, y, test_size=0.3, random_state=1)"
   ]
  },
  {
   "cell_type": "code",
   "execution_count": 13,
   "metadata": {
    "execution": {
     "iopub.execute_input": "2023-07-18T21:52:34.271906Z",
     "iopub.status.busy": "2023-07-18T21:52:34.271081Z",
     "iopub.status.idle": "2023-07-18T21:52:34.274109Z",
     "shell.execute_reply": "2023-07-18T21:52:34.273605Z",
     "shell.execute_reply.started": "2023-07-18T20:10:49.278804Z"
    },
    "papermill": {
     "duration": 0.039944,
     "end_time": "2023-07-18T21:52:34.274211",
     "exception": false,
     "start_time": "2023-07-18T21:52:34.234267",
     "status": "completed"
    },
    "tags": []
   },
   "outputs": [],
   "source": [
    "def fbeta(y_true, y_pred, beta=2):\n",
    "    y_pred = backend.clip(y_pred, 0, 1)\n",
    "\n",
    "    tp = backend.sum(backend.round(backend.clip(y_true * y_pred, 0, 1)), axis=1)\n",
    "    fp = backend.sum(backend.round(backend.clip(y_pred - y_true, 0, 1)), axis=1)\n",
    "    fn = backend.sum(backend.round(backend.clip(y_true - y_pred, 0, 1)), axis=1)\n",
    "    p = tp / (tp + fp + backend.epsilon())\n",
    "    r = tp / (tp + fn + backend.epsilon())\n",
    "    bb = beta ** 2\n",
    "    fbeta_score = backend.mean((1 + bb) * (p * r) / (bb * p + r + backend.epsilon()))\n",
    "    return fbeta_score"
   ]
  },
  {
   "cell_type": "code",
   "execution_count": 14,
   "metadata": {
    "execution": {
     "iopub.execute_input": "2023-07-18T21:52:34.337391Z",
     "iopub.status.busy": "2023-07-18T21:52:34.336790Z",
     "iopub.status.idle": "2023-07-18T21:52:39.901332Z",
     "shell.execute_reply": "2023-07-18T21:52:39.900767Z",
     "shell.execute_reply.started": "2023-07-18T20:10:52.442059Z"
    },
    "papermill": {
     "duration": 5.601518,
     "end_time": "2023-07-18T21:52:39.901454",
     "exception": false,
     "start_time": "2023-07-18T21:52:34.299936",
     "status": "completed"
    },
    "tags": []
   },
   "outputs": [
    {
     "name": "stdout",
     "output_type": "stream",
     "text": [
      "Downloading data from https://storage.googleapis.com/tensorflow/keras-applications/inception_v3/inception_v3_weights_tf_dim_ordering_tf_kernels_notop.h5\n",
      "87916544/87910968 [==============================] - 1s 0us/step\n"
     ]
    }
   ],
   "source": [
    "from keras.applications import InceptionV3\n",
    "model=InceptionV3(input_shape=(75,75,3),include_top=False)\n",
    "for layer in model.layers:\n",
    "    layers.trainable=False\n",
    "last_layer=model.get_layer('mixed7')\n",
    "last_output=last_layer.output\n",
    "    \n",
    "x=layers.Flatten()(last_output)\n",
    "x=layers.Dense(1024,activation='relu')(x)\n",
    "x=layers.Dense(512,activation='relu')(x)\n",
    "x=layers.Dropout(0.2)(x)\n",
    "x=layers.Dense(17,activation='sigmoid')(x)\n",
    "model=models.Model(model.inputs,x)\n",
    "model.compile(optimizer=RMSprop(lr=0.0001),loss='binary_crossentropy',metrics=[fbeta])"
   ]
  },
  {
   "cell_type": "code",
   "execution_count": 15,
   "metadata": {
    "execution": {
     "iopub.execute_input": "2023-07-18T21:52:39.967616Z",
     "iopub.status.busy": "2023-07-18T21:52:39.966946Z",
     "iopub.status.idle": "2023-07-18T21:52:39.970689Z",
     "shell.execute_reply": "2023-07-18T21:52:39.970151Z",
     "shell.execute_reply.started": "2023-07-18T20:10:58.186095Z"
    },
    "papermill": {
     "duration": 0.03878,
     "end_time": "2023-07-18T21:52:39.970800",
     "exception": false,
     "start_time": "2023-07-18T21:52:39.932020",
     "status": "completed"
    },
    "tags": []
   },
   "outputs": [],
   "source": [
    "train_datagen=ImageDataGenerator(rescale=1.0/255.0,horizontal_flip=True, vertical_flip=True, rotation_range=90)\n",
    "test_datagen=ImageDataGenerator(rescale=1.0/255.0)"
   ]
  },
  {
   "cell_type": "code",
   "execution_count": 16,
   "metadata": {
    "execution": {
     "iopub.execute_input": "2023-07-18T21:52:40.036918Z",
     "iopub.status.busy": "2023-07-18T21:52:40.035626Z",
     "iopub.status.idle": "2023-07-18T21:52:40.689867Z",
     "shell.execute_reply": "2023-07-18T21:52:40.689288Z",
     "shell.execute_reply.started": "2023-07-18T20:10:58.194143Z"
    },
    "papermill": {
     "duration": 0.689007,
     "end_time": "2023-07-18T21:52:40.689999",
     "exception": false,
     "start_time": "2023-07-18T21:52:40.000992",
     "status": "completed"
    },
    "tags": []
   },
   "outputs": [],
   "source": [
    "train_gen=train_datagen.flow(X_train,y_train,batch_size=64)\n",
    "test_gen=test_datagen.flow(X_test,y_test,batch_size=64)"
   ]
  },
  {
   "cell_type": "code",
   "execution_count": 17,
   "metadata": {
    "execution": {
     "iopub.execute_input": "2023-07-18T21:52:40.757701Z",
     "iopub.status.busy": "2023-07-18T21:52:40.756930Z",
     "iopub.status.idle": "2023-07-18T21:53:41.947578Z",
     "shell.execute_reply": "2023-07-18T21:53:41.946463Z",
     "shell.execute_reply.started": "2023-07-18T20:11:16.902263Z"
    },
    "papermill": {
     "duration": 61.227188,
     "end_time": "2023-07-18T21:53:41.947727",
     "exception": false,
     "start_time": "2023-07-18T21:52:40.720539",
     "status": "completed"
    },
    "tags": []
   },
   "outputs": [],
   "source": [
    "history = model.fit(train_gen,steps_per_epoch=506,validation_data=test_gen, validation_steps=127, epochs=250, verbose=0)"
   ]
  },
  {
   "cell_type": "code",
   "execution_count": 18,
   "metadata": {
    "execution": {
     "iopub.execute_input": "2023-07-18T21:53:42.015546Z",
     "iopub.status.busy": "2023-07-18T21:53:42.014485Z",
     "iopub.status.idle": "2023-07-18T21:53:42.198954Z",
     "shell.execute_reply": "2023-07-18T21:53:42.198410Z",
     "shell.execute_reply.started": "2023-07-18T20:12:21.810779Z"
    },
    "papermill": {
     "duration": 0.220661,
     "end_time": "2023-07-18T21:53:42.199074",
     "exception": false,
     "start_time": "2023-07-18T21:53:41.978413",
     "status": "completed"
    },
    "tags": []
   },
   "outputs": [
    {
     "name": "stdout",
     "output_type": "stream",
     "text": [
      "> loss=0.119, fbeta=0.860\n"
     ]
    }
   ],
   "source": [
    "loss, fbeta =model.evaluate_generator(test_gen, steps=8, verbose=0)\n",
    "print('> loss=%.3f, fbeta=%.3f' % (loss, fbeta))"
   ]
  },
  {
   "cell_type": "code",
   "execution_count": 19,
   "metadata": {
    "execution": {
     "iopub.execute_input": "2023-07-18T21:53:42.266333Z",
     "iopub.status.busy": "2023-07-18T21:53:42.265333Z",
     "iopub.status.idle": "2023-07-18T21:53:42.268545Z",
     "shell.execute_reply": "2023-07-18T21:53:42.269022Z",
     "shell.execute_reply.started": "2023-07-18T20:12:45.011993Z"
    },
    "papermill": {
     "duration": 0.039271,
     "end_time": "2023-07-18T21:53:42.269136",
     "exception": false,
     "start_time": "2023-07-18T21:53:42.229865",
     "status": "completed"
    },
    "tags": []
   },
   "outputs": [
    {
     "data": {
      "text/plain": [
       "[0.828937828540802]"
      ]
     },
     "execution_count": 19,
     "metadata": {},
     "output_type": "execute_result"
    }
   ],
   "source": [
    "history.history['fbeta']"
   ]
  },
  {
   "cell_type": "code",
   "execution_count": 20,
   "metadata": {
    "execution": {
     "iopub.execute_input": "2023-07-18T21:53:42.334824Z",
     "iopub.status.busy": "2023-07-18T21:53:42.334054Z",
     "iopub.status.idle": "2023-07-18T21:53:42.336503Z",
     "shell.execute_reply": "2023-07-18T21:53:42.337484Z",
     "shell.execute_reply.started": "2023-07-18T20:12:53.452737Z"
    },
    "papermill": {
     "duration": 0.037613,
     "end_time": "2023-07-18T21:53:42.337597",
     "exception": false,
     "start_time": "2023-07-18T21:53:42.299984",
     "status": "completed"
    },
    "tags": []
   },
   "outputs": [],
   "source": [
    "test_path_1='/kaggle/input/planets-dataset/planet/planet/test-jpg/'\n",
    "test_path_2='/kaggle/input/planets-dataset/test-jpg-additional/test-jpg-additional/'"
   ]
  },
  {
   "cell_type": "code",
   "execution_count": 21,
   "metadata": {
    "execution": {
     "iopub.execute_input": "2023-07-18T21:53:42.409821Z",
     "iopub.status.busy": "2023-07-18T21:53:42.409162Z",
     "iopub.status.idle": "2023-07-18T21:53:42.488612Z",
     "shell.execute_reply": "2023-07-18T21:53:42.488084Z",
     "shell.execute_reply.started": "2023-07-18T20:12:56.821089Z"
    },
    "papermill": {
     "duration": 0.119929,
     "end_time": "2023-07-18T21:53:42.488754",
     "exception": false,
     "start_time": "2023-07-18T21:53:42.368825",
     "status": "completed"
    },
    "tags": []
   },
   "outputs": [],
   "source": [
    "submission_df=pd.read_csv('/kaggle/input/planet-understanding-the-amazon-from-space/sample_submission_v2.csv/sample_submission_v2.csv')"
   ]
  },
  {
   "cell_type": "code",
   "execution_count": 22,
   "metadata": {
    "execution": {
     "iopub.execute_input": "2023-07-18T21:53:42.561650Z",
     "iopub.status.busy": "2023-07-18T21:53:42.560920Z",
     "iopub.status.idle": "2023-07-18T22:00:59.744767Z",
     "shell.execute_reply": "2023-07-18T22:00:59.744143Z",
     "shell.execute_reply.started": "2023-07-18T20:22:59.814121Z"
    },
    "papermill": {
     "duration": 437.224772,
     "end_time": "2023-07-18T22:00:59.744911",
     "exception": false,
     "start_time": "2023-07-18T21:53:42.520139",
     "status": "completed"
    },
    "tags": []
   },
   "outputs": [],
   "source": [
    "photo_test=[]\n",
    "for filename in submission_df['image_name']:\n",
    "    if filename[:1]=='t':\n",
    "        img=load_img(test_path_1+filename+'.jpg',target_size=(75,75))\n",
    "    elif filename[:1]=='f':\n",
    "        img=load_img(test_path_2+filename+'.jpg',target_size=(75,75))\n",
    "    ph=img_to_array(img,dtype='uint8')\n",
    "    photo_test.append(ph)"
   ]
  },
  {
   "cell_type": "code",
   "execution_count": 23,
   "metadata": {
    "execution": {
     "iopub.execute_input": "2023-07-18T22:00:59.817519Z",
     "iopub.status.busy": "2023-07-18T22:00:59.815958Z",
     "iopub.status.idle": "2023-07-18T22:01:00.147568Z",
     "shell.execute_reply": "2023-07-18T22:01:00.147007Z",
     "shell.execute_reply.started": "2023-07-18T20:25:45.432855Z"
    },
    "papermill": {
     "duration": 0.37078,
     "end_time": "2023-07-18T22:01:00.147700",
     "exception": false,
     "start_time": "2023-07-18T22:00:59.776920",
     "status": "completed"
    },
    "tags": []
   },
   "outputs": [],
   "source": [
    "test_x=np.asarray(photo_test,dtype='uint8')"
   ]
  },
  {
   "cell_type": "code",
   "execution_count": 24,
   "metadata": {
    "execution": {
     "iopub.execute_input": "2023-07-18T22:01:00.216181Z",
     "iopub.status.busy": "2023-07-18T22:01:00.214894Z",
     "iopub.status.idle": "2023-07-18T22:01:04.903278Z",
     "shell.execute_reply": "2023-07-18T22:01:04.902545Z",
     "shell.execute_reply.started": "2023-07-18T20:29:55.371621Z"
    },
    "papermill": {
     "duration": 4.724441,
     "end_time": "2023-07-18T22:01:04.903396",
     "exception": false,
     "start_time": "2023-07-18T22:01:00.178955",
     "status": "completed"
    },
    "tags": []
   },
   "outputs": [],
   "source": [
    "image_gen_test=ImageDataGenerator(rescale=1/255.0)\n",
    "test_data_gen=image_gen_test.flow(test_x,shuffle=False,batch_size=64)"
   ]
  },
  {
   "cell_type": "code",
   "execution_count": 25,
   "metadata": {
    "execution": {
     "iopub.execute_input": "2023-07-18T22:01:04.974359Z",
     "iopub.status.busy": "2023-07-18T22:01:04.973353Z",
     "iopub.status.idle": "2023-07-18T22:01:18.728805Z",
     "shell.execute_reply": "2023-07-18T22:01:18.727905Z",
     "shell.execute_reply.started": "2023-07-18T20:31:46.009049Z"
    },
    "papermill": {
     "duration": 13.791879,
     "end_time": "2023-07-18T22:01:18.728931",
     "exception": false,
     "start_time": "2023-07-18T22:01:04.937052",
     "status": "completed"
    },
    "tags": []
   },
   "outputs": [],
   "source": [
    "result=model.predict(test_data_gen)"
   ]
  },
  {
   "cell_type": "code",
   "execution_count": 26,
   "metadata": {
    "execution": {
     "iopub.execute_input": "2023-07-18T22:01:18.796825Z",
     "iopub.status.busy": "2023-07-18T22:01:18.796017Z",
     "iopub.status.idle": "2023-07-18T22:01:18.799244Z",
     "shell.execute_reply": "2023-07-18T22:01:18.798568Z",
     "shell.execute_reply.started": "2023-07-18T20:32:32.632496Z"
    },
    "papermill": {
     "duration": 0.039093,
     "end_time": "2023-07-18T22:01:18.799361",
     "exception": false,
     "start_time": "2023-07-18T22:01:18.760268",
     "status": "completed"
    },
    "tags": []
   },
   "outputs": [],
   "source": [
    "new_df=pd.DataFrame(result,columns=tags_mapping.keys())"
   ]
  },
  {
   "cell_type": "code",
   "execution_count": 27,
   "metadata": {
    "execution": {
     "iopub.execute_input": "2023-07-18T22:01:18.867689Z",
     "iopub.status.busy": "2023-07-18T22:01:18.866744Z",
     "iopub.status.idle": "2023-07-18T22:01:29.862644Z",
     "shell.execute_reply": "2023-07-18T22:01:29.861430Z",
     "shell.execute_reply.started": "2023-07-18T20:32:50.390793Z"
    },
    "papermill": {
     "duration": 11.032238,
     "end_time": "2023-07-18T22:01:29.862809",
     "exception": false,
     "start_time": "2023-07-18T22:01:18.830571",
     "status": "completed"
    },
    "tags": []
   },
   "outputs": [],
   "source": [
    "tags=new_df.columns\n",
    "pred_tags=new_df.apply(lambda x: ' '.join(tags[x>0.5]),axis=1)"
   ]
  },
  {
   "cell_type": "code",
   "execution_count": 28,
   "metadata": {
    "execution": {
     "iopub.execute_input": "2023-07-18T22:01:29.930351Z",
     "iopub.status.busy": "2023-07-18T22:01:29.929495Z",
     "iopub.status.idle": "2023-07-18T22:01:29.932688Z",
     "shell.execute_reply": "2023-07-18T22:01:29.932194Z",
     "shell.execute_reply.started": "2023-07-18T20:34:04.109279Z"
    },
    "papermill": {
     "duration": 0.038415,
     "end_time": "2023-07-18T22:01:29.932798",
     "exception": false,
     "start_time": "2023-07-18T22:01:29.894383",
     "status": "completed"
    },
    "tags": []
   },
   "outputs": [],
   "source": [
    "pred_tag=pd.DataFrame(pred_tags,columns=['tags'])"
   ]
  },
  {
   "cell_type": "code",
   "execution_count": 29,
   "metadata": {
    "execution": {
     "iopub.execute_input": "2023-07-18T22:01:30.000698Z",
     "iopub.status.busy": "2023-07-18T22:01:29.999806Z",
     "iopub.status.idle": "2023-07-18T22:01:30.002605Z",
     "shell.execute_reply": "2023-07-18T22:01:30.002072Z",
     "shell.execute_reply.started": "2023-07-18T20:36:33.730171Z"
    },
    "papermill": {
     "duration": 0.039333,
     "end_time": "2023-07-18T22:01:30.002738",
     "exception": false,
     "start_time": "2023-07-18T22:01:29.963405",
     "status": "completed"
    },
    "tags": []
   },
   "outputs": [],
   "source": [
    "submission_df['tags']=pred_tag['tags']"
   ]
  },
  {
   "cell_type": "code",
   "execution_count": 30,
   "metadata": {
    "execution": {
     "iopub.execute_input": "2023-07-18T22:01:30.068298Z",
     "iopub.status.busy": "2023-07-18T22:01:30.067643Z",
     "iopub.status.idle": "2023-07-18T22:01:30.467312Z",
     "shell.execute_reply": "2023-07-18T22:01:30.467903Z",
     "shell.execute_reply.started": "2023-07-18T20:45:19.100061Z"
    },
    "papermill": {
     "duration": 0.434633,
     "end_time": "2023-07-18T22:01:30.468068",
     "exception": false,
     "start_time": "2023-07-18T22:01:30.033435",
     "status": "completed"
    },
    "tags": []
   },
   "outputs": [],
   "source": [
    "submission_df.to_csv('attempt_12.csv',index=False)"
   ]
  },
  {
   "cell_type": "code",
   "execution_count": 31,
   "metadata": {
    "execution": {
     "iopub.execute_input": "2023-07-18T22:01:30.542243Z",
     "iopub.status.busy": "2023-07-18T22:01:30.541325Z",
     "iopub.status.idle": "2023-07-18T22:01:30.544922Z",
     "shell.execute_reply": "2023-07-18T22:01:30.545434Z",
     "shell.execute_reply.started": "2023-07-18T20:45:23.138365Z"
    },
    "papermill": {
     "duration": 0.046392,
     "end_time": "2023-07-18T22:01:30.545552",
     "exception": false,
     "start_time": "2023-07-18T22:01:30.499160",
     "status": "completed"
    },
    "tags": []
   },
   "outputs": [
    {
     "data": {
      "text/html": [
       "<div>\n",
       "<style scoped>\n",
       "    .dataframe tbody tr th:only-of-type {\n",
       "        vertical-align: middle;\n",
       "    }\n",
       "\n",
       "    .dataframe tbody tr th {\n",
       "        vertical-align: top;\n",
       "    }\n",
       "\n",
       "    .dataframe thead th {\n",
       "        text-align: right;\n",
       "    }\n",
       "</style>\n",
       "<table border=\"1\" class=\"dataframe\">\n",
       "  <thead>\n",
       "    <tr style=\"text-align: right;\">\n",
       "      <th></th>\n",
       "      <th>image_name</th>\n",
       "      <th>tags</th>\n",
       "    </tr>\n",
       "  </thead>\n",
       "  <tbody>\n",
       "    <tr>\n",
       "      <th>0</th>\n",
       "      <td>test_0</td>\n",
       "      <td>clear primary</td>\n",
       "    </tr>\n",
       "    <tr>\n",
       "      <th>1</th>\n",
       "      <td>test_1</td>\n",
       "      <td>clear primary</td>\n",
       "    </tr>\n",
       "    <tr>\n",
       "      <th>2</th>\n",
       "      <td>test_2</td>\n",
       "      <td>partly_cloudy primary</td>\n",
       "    </tr>\n",
       "    <tr>\n",
       "      <th>3</th>\n",
       "      <td>test_3</td>\n",
       "      <td>partly_cloudy primary</td>\n",
       "    </tr>\n",
       "    <tr>\n",
       "      <th>4</th>\n",
       "      <td>test_4</td>\n",
       "      <td>partly_cloudy primary</td>\n",
       "    </tr>\n",
       "  </tbody>\n",
       "</table>\n",
       "</div>"
      ],
      "text/plain": [
       "  image_name                   tags\n",
       "0     test_0          clear primary\n",
       "1     test_1          clear primary\n",
       "2     test_2  partly_cloudy primary\n",
       "3     test_3  partly_cloudy primary\n",
       "4     test_4  partly_cloudy primary"
      ]
     },
     "execution_count": 31,
     "metadata": {},
     "output_type": "execute_result"
    }
   ],
   "source": [
    "submission_df.head()"
   ]
  },
  {
   "cell_type": "code",
   "execution_count": null,
   "metadata": {
    "papermill": {
     "duration": 0.031316,
     "end_time": "2023-07-18T22:01:30.607954",
     "exception": false,
     "start_time": "2023-07-18T22:01:30.576638",
     "status": "completed"
    },
    "tags": []
   },
   "outputs": [],
   "source": []
  }
 ],
 "metadata": {
  "kernelspec": {
   "display_name": "Python 3",
   "language": "python",
   "name": "python3"
  },
  "language_info": {
   "codemirror_mode": {
    "name": "ipython",
    "version": 3
   },
   "file_extension": ".py",
   "mimetype": "text/x-python",
   "name": "python",
   "nbconvert_exporter": "python",
   "pygments_lexer": "ipython3",
   "version": "3.7.6"
  },
  "papermill": {
   "duration": 857.659527,
   "end_time": "2023-07-18T22:01:31.247950",
   "environment_variables": {},
   "exception": null,
   "input_path": "__notebook__.ipynb",
   "output_path": "__notebook__.ipynb",
   "parameters": {},
   "start_time": "2023-07-18T21:47:13.588423",
   "version": "2.1.0"
  }
 },
 "nbformat": 4,
 "nbformat_minor": 4
}
